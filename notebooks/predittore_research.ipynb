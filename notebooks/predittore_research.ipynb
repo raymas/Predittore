{
 "cells": [
  {
   "cell_type": "markdown",
   "metadata": {},
   "source": [
    "# Predittore - fast implementation\n",
    "\n",
    "Asvestis' solution for #EUvsVirus Hackathon \n",
    "\n",
    "## Introduction\n",
    "\n",
    "Research notebook for prediction models."
   ]
  },
  {
   "cell_type": "markdown",
   "metadata": {},
   "source": [
    "We need dataclasses, pandas"
   ]
  },
  {
   "cell_type": "code",
   "execution_count": 18,
   "metadata": {},
   "outputs": [],
   "source": [
    "from dataclasses import dataclass\n",
    "import pandas as pd\n",
    "import json\n",
    "\n",
    "@dataclass\n",
    "class Values:\n",
    "    def __init__(self, value: pd.DataFrame):\n",
    "        self.value = value\n",
    "        self.value_ma = self.value.rolling(window=7).mean()\n",
    "\n",
    "    def get(self):\n",
    "        return {\n",
    "            'Raw': self.value.fillna(0).to_dict(),\n",
    "            'Moving Average 7 days': self.value_ma.fillna(0).to_dict()\n",
    "        }\n",
    "\n",
    "@dataclass\n",
    "class Measurement:\n",
    "    def __init__(self, measurement: pd.DataFrame):\n",
    "        self.measurement = Values(measurement)\n",
    "        self.measurement_diff = Values(measurement.diff())\n",
    "\n",
    "    def get(self):\n",
    "        return {\n",
    "            'Cumulative': self.measurement.get(),\n",
    "            'Daily new': self.measurement_diff.get()\n",
    "        }\n",
    "\n",
    "@dataclass\n",
    "class COVID19:\n",
    "    def __init__(self, confirmed: pd.DataFrame, deaths: pd.DataFrame, recovered: pd.DataFrame):\n",
    "        self.confirmed = Measurement(confirmed)\n",
    "        self.deaths = Measurement(deaths)\n",
    "        self.recovered = Measurement(recovered)\n",
    "\n",
    "    def to_json(self):\n",
    "        return json.dmps({\n",
    "            'confirmed': self.confirmed.get(),\n",
    "            'deaths': self.deaths.get(),\n",
    "            'recovered': self.recovered.get()\n",
    "        })"
   ]
  },
  {
   "cell_type": "markdown",
   "metadata": {},
   "source": [
    "Load up the data from the COVID-19 submodule"
   ]
  },
  {
   "cell_type": "code",
   "execution_count": 19,
   "metadata": {},
   "outputs": [
    {
     "data": {
      "text/html": [
       "<div>\n",
       "<style scoped>\n",
       "    .dataframe tbody tr th:only-of-type {\n",
       "        vertical-align: middle;\n",
       "    }\n",
       "\n",
       "    .dataframe tbody tr th {\n",
       "        vertical-align: top;\n",
       "    }\n",
       "\n",
       "    .dataframe thead th {\n",
       "        text-align: right;\n",
       "    }\n",
       "</style>\n",
       "<table border=\"1\" class=\"dataframe\">\n",
       "  <thead>\n",
       "    <tr style=\"text-align: right;\">\n",
       "      <th></th>\n",
       "      <th>Province/State</th>\n",
       "      <th>Country/Region</th>\n",
       "      <th>Lat</th>\n",
       "      <th>Long</th>\n",
       "      <th>1/22/20</th>\n",
       "      <th>1/23/20</th>\n",
       "      <th>1/24/20</th>\n",
       "      <th>1/25/20</th>\n",
       "      <th>1/26/20</th>\n",
       "      <th>1/27/20</th>\n",
       "      <th>...</th>\n",
       "      <th>4/16/20</th>\n",
       "      <th>4/17/20</th>\n",
       "      <th>4/18/20</th>\n",
       "      <th>4/19/20</th>\n",
       "      <th>4/20/20</th>\n",
       "      <th>4/21/20</th>\n",
       "      <th>4/22/20</th>\n",
       "      <th>4/23/20</th>\n",
       "      <th>4/24/20</th>\n",
       "      <th>4/25/20</th>\n",
       "    </tr>\n",
       "  </thead>\n",
       "  <tbody>\n",
       "    <tr>\n",
       "      <th>0</th>\n",
       "      <td>NaN</td>\n",
       "      <td>Afghanistan</td>\n",
       "      <td>33.000000</td>\n",
       "      <td>65.000000</td>\n",
       "      <td>0</td>\n",
       "      <td>0</td>\n",
       "      <td>0</td>\n",
       "      <td>0</td>\n",
       "      <td>0</td>\n",
       "      <td>0</td>\n",
       "      <td>...</td>\n",
       "      <td>840</td>\n",
       "      <td>906</td>\n",
       "      <td>933</td>\n",
       "      <td>996</td>\n",
       "      <td>1026</td>\n",
       "      <td>1092</td>\n",
       "      <td>1176</td>\n",
       "      <td>1279</td>\n",
       "      <td>1351</td>\n",
       "      <td>1463</td>\n",
       "    </tr>\n",
       "    <tr>\n",
       "      <th>1</th>\n",
       "      <td>NaN</td>\n",
       "      <td>Albania</td>\n",
       "      <td>41.153300</td>\n",
       "      <td>20.168300</td>\n",
       "      <td>0</td>\n",
       "      <td>0</td>\n",
       "      <td>0</td>\n",
       "      <td>0</td>\n",
       "      <td>0</td>\n",
       "      <td>0</td>\n",
       "      <td>...</td>\n",
       "      <td>518</td>\n",
       "      <td>539</td>\n",
       "      <td>548</td>\n",
       "      <td>562</td>\n",
       "      <td>584</td>\n",
       "      <td>609</td>\n",
       "      <td>634</td>\n",
       "      <td>663</td>\n",
       "      <td>678</td>\n",
       "      <td>712</td>\n",
       "    </tr>\n",
       "    <tr>\n",
       "      <th>2</th>\n",
       "      <td>NaN</td>\n",
       "      <td>Algeria</td>\n",
       "      <td>28.033900</td>\n",
       "      <td>1.659600</td>\n",
       "      <td>0</td>\n",
       "      <td>0</td>\n",
       "      <td>0</td>\n",
       "      <td>0</td>\n",
       "      <td>0</td>\n",
       "      <td>0</td>\n",
       "      <td>...</td>\n",
       "      <td>2268</td>\n",
       "      <td>2418</td>\n",
       "      <td>2534</td>\n",
       "      <td>2629</td>\n",
       "      <td>2718</td>\n",
       "      <td>2811</td>\n",
       "      <td>2910</td>\n",
       "      <td>3007</td>\n",
       "      <td>3127</td>\n",
       "      <td>3256</td>\n",
       "    </tr>\n",
       "    <tr>\n",
       "      <th>3</th>\n",
       "      <td>NaN</td>\n",
       "      <td>Andorra</td>\n",
       "      <td>42.506300</td>\n",
       "      <td>1.521800</td>\n",
       "      <td>0</td>\n",
       "      <td>0</td>\n",
       "      <td>0</td>\n",
       "      <td>0</td>\n",
       "      <td>0</td>\n",
       "      <td>0</td>\n",
       "      <td>...</td>\n",
       "      <td>673</td>\n",
       "      <td>696</td>\n",
       "      <td>704</td>\n",
       "      <td>713</td>\n",
       "      <td>717</td>\n",
       "      <td>717</td>\n",
       "      <td>723</td>\n",
       "      <td>723</td>\n",
       "      <td>731</td>\n",
       "      <td>738</td>\n",
       "    </tr>\n",
       "    <tr>\n",
       "      <th>4</th>\n",
       "      <td>NaN</td>\n",
       "      <td>Angola</td>\n",
       "      <td>-11.202700</td>\n",
       "      <td>17.873900</td>\n",
       "      <td>0</td>\n",
       "      <td>0</td>\n",
       "      <td>0</td>\n",
       "      <td>0</td>\n",
       "      <td>0</td>\n",
       "      <td>0</td>\n",
       "      <td>...</td>\n",
       "      <td>19</td>\n",
       "      <td>19</td>\n",
       "      <td>24</td>\n",
       "      <td>24</td>\n",
       "      <td>24</td>\n",
       "      <td>24</td>\n",
       "      <td>25</td>\n",
       "      <td>25</td>\n",
       "      <td>25</td>\n",
       "      <td>25</td>\n",
       "    </tr>\n",
       "    <tr>\n",
       "      <th>...</th>\n",
       "      <td>...</td>\n",
       "      <td>...</td>\n",
       "      <td>...</td>\n",
       "      <td>...</td>\n",
       "      <td>...</td>\n",
       "      <td>...</td>\n",
       "      <td>...</td>\n",
       "      <td>...</td>\n",
       "      <td>...</td>\n",
       "      <td>...</td>\n",
       "      <td>...</td>\n",
       "      <td>...</td>\n",
       "      <td>...</td>\n",
       "      <td>...</td>\n",
       "      <td>...</td>\n",
       "      <td>...</td>\n",
       "      <td>...</td>\n",
       "      <td>...</td>\n",
       "      <td>...</td>\n",
       "      <td>...</td>\n",
       "      <td>...</td>\n",
       "    </tr>\n",
       "    <tr>\n",
       "      <th>259</th>\n",
       "      <td>Saint Pierre and Miquelon</td>\n",
       "      <td>France</td>\n",
       "      <td>46.885200</td>\n",
       "      <td>-56.315900</td>\n",
       "      <td>0</td>\n",
       "      <td>0</td>\n",
       "      <td>0</td>\n",
       "      <td>0</td>\n",
       "      <td>0</td>\n",
       "      <td>0</td>\n",
       "      <td>...</td>\n",
       "      <td>1</td>\n",
       "      <td>1</td>\n",
       "      <td>1</td>\n",
       "      <td>1</td>\n",
       "      <td>1</td>\n",
       "      <td>1</td>\n",
       "      <td>1</td>\n",
       "      <td>1</td>\n",
       "      <td>1</td>\n",
       "      <td>1</td>\n",
       "    </tr>\n",
       "    <tr>\n",
       "      <th>260</th>\n",
       "      <td>NaN</td>\n",
       "      <td>South Sudan</td>\n",
       "      <td>6.877000</td>\n",
       "      <td>31.307000</td>\n",
       "      <td>0</td>\n",
       "      <td>0</td>\n",
       "      <td>0</td>\n",
       "      <td>0</td>\n",
       "      <td>0</td>\n",
       "      <td>0</td>\n",
       "      <td>...</td>\n",
       "      <td>4</td>\n",
       "      <td>4</td>\n",
       "      <td>4</td>\n",
       "      <td>4</td>\n",
       "      <td>4</td>\n",
       "      <td>4</td>\n",
       "      <td>4</td>\n",
       "      <td>5</td>\n",
       "      <td>5</td>\n",
       "      <td>5</td>\n",
       "    </tr>\n",
       "    <tr>\n",
       "      <th>261</th>\n",
       "      <td>NaN</td>\n",
       "      <td>Western Sahara</td>\n",
       "      <td>24.215500</td>\n",
       "      <td>-12.885800</td>\n",
       "      <td>0</td>\n",
       "      <td>0</td>\n",
       "      <td>0</td>\n",
       "      <td>0</td>\n",
       "      <td>0</td>\n",
       "      <td>0</td>\n",
       "      <td>...</td>\n",
       "      <td>6</td>\n",
       "      <td>6</td>\n",
       "      <td>6</td>\n",
       "      <td>6</td>\n",
       "      <td>6</td>\n",
       "      <td>6</td>\n",
       "      <td>6</td>\n",
       "      <td>6</td>\n",
       "      <td>6</td>\n",
       "      <td>6</td>\n",
       "    </tr>\n",
       "    <tr>\n",
       "      <th>262</th>\n",
       "      <td>NaN</td>\n",
       "      <td>Sao Tome and Principe</td>\n",
       "      <td>0.186360</td>\n",
       "      <td>6.613081</td>\n",
       "      <td>0</td>\n",
       "      <td>0</td>\n",
       "      <td>0</td>\n",
       "      <td>0</td>\n",
       "      <td>0</td>\n",
       "      <td>0</td>\n",
       "      <td>...</td>\n",
       "      <td>4</td>\n",
       "      <td>4</td>\n",
       "      <td>4</td>\n",
       "      <td>4</td>\n",
       "      <td>4</td>\n",
       "      <td>4</td>\n",
       "      <td>4</td>\n",
       "      <td>4</td>\n",
       "      <td>4</td>\n",
       "      <td>4</td>\n",
       "    </tr>\n",
       "    <tr>\n",
       "      <th>263</th>\n",
       "      <td>NaN</td>\n",
       "      <td>Yemen</td>\n",
       "      <td>15.552727</td>\n",
       "      <td>48.516388</td>\n",
       "      <td>0</td>\n",
       "      <td>0</td>\n",
       "      <td>0</td>\n",
       "      <td>0</td>\n",
       "      <td>0</td>\n",
       "      <td>0</td>\n",
       "      <td>...</td>\n",
       "      <td>1</td>\n",
       "      <td>1</td>\n",
       "      <td>1</td>\n",
       "      <td>1</td>\n",
       "      <td>1</td>\n",
       "      <td>1</td>\n",
       "      <td>1</td>\n",
       "      <td>1</td>\n",
       "      <td>1</td>\n",
       "      <td>1</td>\n",
       "    </tr>\n",
       "  </tbody>\n",
       "</table>\n",
       "<p>264 rows × 99 columns</p>\n",
       "</div>"
      ],
      "text/plain": [
       "                Province/State         Country/Region        Lat       Long  \\\n",
       "0                          NaN            Afghanistan  33.000000  65.000000   \n",
       "1                          NaN                Albania  41.153300  20.168300   \n",
       "2                          NaN                Algeria  28.033900   1.659600   \n",
       "3                          NaN                Andorra  42.506300   1.521800   \n",
       "4                          NaN                 Angola -11.202700  17.873900   \n",
       "..                         ...                    ...        ...        ...   \n",
       "259  Saint Pierre and Miquelon                 France  46.885200 -56.315900   \n",
       "260                        NaN            South Sudan   6.877000  31.307000   \n",
       "261                        NaN         Western Sahara  24.215500 -12.885800   \n",
       "262                        NaN  Sao Tome and Principe   0.186360   6.613081   \n",
       "263                        NaN                  Yemen  15.552727  48.516388   \n",
       "\n",
       "     1/22/20  1/23/20  1/24/20  1/25/20  1/26/20  1/27/20  ...  4/16/20  \\\n",
       "0          0        0        0        0        0        0  ...      840   \n",
       "1          0        0        0        0        0        0  ...      518   \n",
       "2          0        0        0        0        0        0  ...     2268   \n",
       "3          0        0        0        0        0        0  ...      673   \n",
       "4          0        0        0        0        0        0  ...       19   \n",
       "..       ...      ...      ...      ...      ...      ...  ...      ...   \n",
       "259        0        0        0        0        0        0  ...        1   \n",
       "260        0        0        0        0        0        0  ...        4   \n",
       "261        0        0        0        0        0        0  ...        6   \n",
       "262        0        0        0        0        0        0  ...        4   \n",
       "263        0        0        0        0        0        0  ...        1   \n",
       "\n",
       "     4/17/20  4/18/20  4/19/20  4/20/20  4/21/20  4/22/20  4/23/20  4/24/20  \\\n",
       "0        906      933      996     1026     1092     1176     1279     1351   \n",
       "1        539      548      562      584      609      634      663      678   \n",
       "2       2418     2534     2629     2718     2811     2910     3007     3127   \n",
       "3        696      704      713      717      717      723      723      731   \n",
       "4         19       24       24       24       24       25       25       25   \n",
       "..       ...      ...      ...      ...      ...      ...      ...      ...   \n",
       "259        1        1        1        1        1        1        1        1   \n",
       "260        4        4        4        4        4        4        5        5   \n",
       "261        6        6        6        6        6        6        6        6   \n",
       "262        4        4        4        4        4        4        4        4   \n",
       "263        1        1        1        1        1        1        1        1   \n",
       "\n",
       "     4/25/20  \n",
       "0       1463  \n",
       "1        712  \n",
       "2       3256  \n",
       "3        738  \n",
       "4         25  \n",
       "..       ...  \n",
       "259        1  \n",
       "260        5  \n",
       "261        6  \n",
       "262        4  \n",
       "263        1  \n",
       "\n",
       "[264 rows x 99 columns]"
      ]
     },
     "execution_count": 19,
     "metadata": {},
     "output_type": "execute_result"
    }
   ],
   "source": [
    "import os\n",
    "\n",
    "# Get the base folder relatively to COVID-19\n",
    "base_folder = os.path.join('..', 'COVID-19', 'csse_covid_19_data', 'csse_covid_19_time_series')\n",
    "\n",
    "confirmed = pd.read_csv(os.path.join(base_folder, 'time_series_covid19_confirmed_global.csv'), sep=',')\n",
    "deaths = pd.read_csv(os.path.join(base_folder, 'time_series_covid19_deaths_global.csv'), sep=',')\n",
    "recovered = pd.read_csv(os.path.join(base_folder, 'time_series_covid19_recovered_global.csv'), sep=',')\n",
    "confirmed"
   ]
  },
  {
   "cell_type": "markdown",
   "metadata": {},
   "source": [
    "We wrote a little function to extract data "
   ]
  },
  {
   "cell_type": "code",
   "execution_count": 20,
   "metadata": {},
   "outputs": [],
   "source": [
    "import calendar\n",
    "import datetime\n",
    "\n",
    "def makeComputations(countries):\n",
    "    global base_folder\n",
    "\n",
    "    confirmed = pd.read_csv(os.path.join(base_folder, 'time_series_covid19_confirmed_global.csv'), sep=',')\n",
    "    deaths = pd.read_csv(os.path.join(base_folder, 'time_series_covid19_deaths_global.csv'), sep=',')\n",
    "    recovered = pd.read_csv(os.path.join(base_folder, 'time_series_covid19_recovered_global.csv'), sep=',')\n",
    "\n",
    "    get_total_per_country = lambda df: df.sum(axis=0) if not df.isnull().values.any() else df[df.isna().any(axis=1)]\n",
    "    # clean_date = lambda df: df.set_index(pd.Index([datetime.date(2000 + int(dd.split('/')[2]), int(dd.split('/')[0]), int(dd.split('/')[1])) for dd in list(df.index.values)]))\n",
    "    clean_date = lambda df: df.set_index(pd.Index([calendar.timegm(datetime.date(2000 + int(dd.split('/')[2]), int(dd.split('/')[0]), int(dd.split('/')[1])).timetuple()) for dd in list(df.index.values)]))\n",
    "\n",
    "    # countries = [k for k, _ in countries.items()]\n",
    "\n",
    "    objs = []\n",
    "    for obj in [confirmed, deaths, recovered]:\n",
    "        dfs = []\n",
    "        for c in countries:\n",
    "            total = get_total_per_country(obj[obj['Country/Region'] == c])\n",
    "            if isinstance(total, pd.core.frame.Series):\n",
    "                total = pd.DataFrame(total)\n",
    "                total = total.transpose()\n",
    "            total = total.drop(['Province/State', 'Country/Region', 'Lat', 'Long'], axis=1)\n",
    "            total = total.set_index(pd.Index(['Total ' + c]))\n",
    "            total = total.transpose()\n",
    "            total = clean_date(total)\n",
    "            dfs.append(total)\n",
    "        objs.append(pd.concat(dfs, axis=1, sort=False))\n",
    "\n",
    "    selected = COVID19(objs[0], objs[1], objs[2])\n",
    "\n",
    "    return selected\n",
    "\n",
    "all_countries = makeComputations(confirmed['Country/Region'].drop_duplicates())"
   ]
  },
  {
   "cell_type": "markdown",
   "metadata": {},
   "source": [
    "## Logistic regression\n",
    "\n",
    "We use the following relationship\n",
    "\n",
    "$$\n",
    "y(x) = \\frac{A}{1 - e^{-k \\cdot (x - x_0)}} + B\n",
    "$$\n",
    "\n",
    "- $[A, k, x_0, B] \\in \\mathbb{R}$\n",
    "- $y \\in \\{confirmed, deaths, recovered\\}$"
   ]
  },
  {
   "cell_type": "code",
   "execution_count": 21,
   "metadata": {},
   "outputs": [],
   "source": [
    "import numpy as np\n",
    "from scipy.optimize import curve_fit"
   ]
  },
  {
   "cell_type": "code",
   "execution_count": 22,
   "metadata": {},
   "outputs": [],
   "source": [
    "def logisticRegression(x, y, forward=7 * 48):\n",
    "    sigmoid = lambda x, A, B, k, x0: A / (1 + np.exp(-k*(x-x0)))+B\n",
    "\n",
    "    popt, pcov = curve_fit(sigmoid, x, y)\n",
    "\n",
    "    return sigmoid(range(len(x) + forward), *popt), pcov"
   ]
  },
  {
   "cell_type": "markdown",
   "metadata": {},
   "source": [
    "## Gaussian regression\n",
    "\n",
    "We use the following function:\n",
    "\n",
    "$$\n",
    "y(t) = A \\times e^{\\frac{-(t - t_0)^2}{2 \\cdot \\sigma^2}}\n",
    "$$\n",
    "\n",
    "- $[A, x_0, \\sigma] \\in \\mathbb{R}$\n",
    "- $y \\in \\{confirmed, deaths, recovered\\}$"
   ]
  },
  {
   "cell_type": "code",
   "execution_count": 23,
   "metadata": {},
   "outputs": [],
   "source": [
    "def gaussRegression(x ,y, forward=7 * 48):\n",
    "    gauss = lambda x, a, x0, sigma: a*np.exp(-(x-x0)**2/(2*sigma**2))\n",
    "\n",
    "    popt, pcov = curve_fit(gauss, x, y)\n",
    "\n",
    "    return gauss(range(len(x) + forward), *popt), pcov"
   ]
  },
  {
   "cell_type": "markdown",
   "metadata": {},
   "source": [
    "## Use case\n",
    "\n",
    "For accessing data we must use either the *all_countries* variable\n",
    "\n",
    "The data tree is the following:\n",
    "\n",
    "```\n",
    "all_countries\n",
    "|\n",
    "--- confirmed\n",
    "|   |\n",
    "|    --- measurement (raw CUMULATIVE data from John Hopkins)\n",
    "|        |\n",
    "|        --- value (the measurement raw value)\n",
    "|        --- value_ma (moving average measurement)\n",
    "|\n",
    "|    --- measurement_diff (derivate of raw cumulative data from John Hopkins)\n",
    "|        |\n",
    "|        --- value (the measurement_diff computed value)\n",
    "|        --- value_ma (moving average of measurement derivate computed value)\n",
    "--- deaths\n",
    "|\n",
    "|\n",
    "|\n",
    "--- recovered\n",
    "```\n",
    "\n",
    "Same logic applies to deaths and recovered"
   ]
  },
  {
   "cell_type": "code",
   "execution_count": 24,
   "metadata": {},
   "outputs": [
    {
     "name": "stdout",
     "output_type": "stream",
     "text": [
      "1579651200         1\n",
      "1579737600         1\n",
      "1579824000         2\n",
      "1579910400         2\n",
      "1579996800         5\n",
      "               ...  \n",
      "1587427200    811865\n",
      "1587513600    840351\n",
      "1587600000    869170\n",
      "1587686400    905358\n",
      "1587772800    938154\n",
      "Name: Total US, Length: 95, dtype: int64\n"
     ]
    }
   ],
   "source": [
    "countries = ['US']\n",
    "\n",
    "for country in countries:\n",
    "    confirmed_cumulative_raw = all_countries.confirmed.measurement.value[f'Total {country}']\n",
    "    confirmed_cumulative_moving_average = all_countries.confirmed.measurement.value_ma[f'Total {country}']\n",
    "    \n",
    "    confirmed_derivate_raw = all_countries.confirmed.measurement_diff.value[f'Total {country}']\n",
    "    confirmed_derivate_moving_average = all_countries.confirmed.measurement_diff.value_ma[f'Total {country}']\n",
    "\n",
    "print(confirmed_cumulative_raw)"
   ]
  },
  {
   "cell_type": "code",
   "execution_count": 25,
   "metadata": {},
   "outputs": [
    {
     "name": "stdout",
     "output_type": "stream",
     "text": [
      "1579651200              NaN\n",
      "1579737600              NaN\n",
      "1579824000              NaN\n",
      "1579910400              NaN\n",
      "1579996800              NaN\n",
      "                  ...      \n",
      "1587427200    727263.571429\n",
      "1587513600    756406.571429\n",
      "1587600000    785203.428571\n",
      "1587686400    814582.285714\n",
      "1587772800    844004.714286\n",
      "Name: Total US, Length: 95, dtype: float64\n"
     ]
    }
   ],
   "source": [
    "print(confirmed_cumulative_moving_average)"
   ]
  },
  {
   "cell_type": "code",
   "execution_count": 26,
   "metadata": {},
   "outputs": [
    {
     "data": {
      "text/plain": [
       "<module 'matplotlib.pyplot' from '/home/redeye/miniconda3/envs/bio/lib/python3.8/site-packages/matplotlib/pyplot.py'>"
      ]
     },
     "execution_count": 26,
     "metadata": {},
     "output_type": "execute_result"
    },
    {
     "data": {
      "image/png": "[encoded data removed]",
      "text/plain": [
       "<Figure size 1080x504 with 1 Axes>"
      ]
     },
     "metadata": {
      "needs_background": "light"
     },
     "output_type": "display_data"
    }
   ],
   "source": [
    "import matplotlib.pyplot as plt\n",
    "plt.rcParams[\"figure.figsize\"] = (15, 7)\n",
    "\n",
    "plt.plot(confirmed_cumulative_raw)\n",
    "plt.plot(confirmed_cumulative_moving_average)\n",
    "plt"
   ]
  },
  {
   "cell_type": "code",
   "execution_count": 27,
   "metadata": {},
   "outputs": [
    {
     "data": {
      "text/plain": [
       "<module 'matplotlib.pyplot' from '/home/redeye/miniconda3/envs/bio/lib/python3.8/site-packages/matplotlib/pyplot.py'>"
      ]
     },
     "execution_count": 27,
     "metadata": {},
     "output_type": "execute_result"
    },
    {
     "data": {
      "image/png": "[encoded data removed]",
      "text/plain": [
       "<Figure size 1080x504 with 1 Axes>"
      ]
     },
     "metadata": {
      "needs_background": "light"
     },
     "output_type": "display_data"
    }
   ],
   "source": [
    "plt.scatter(list(map(datetime.date.fromtimestamp, confirmed_derivate_raw.index.values)), confirmed_derivate_raw.values, c='r')\n",
    "plt.plot(list(map(datetime.date.fromtimestamp, confirmed_derivate_raw.index.values)), confirmed_derivate_moving_average.values)\n",
    "plt"
   ]
  },
  {
   "cell_type": "markdown",
   "metadata": {},
   "source": [
    "### Derivate regression\n",
    "\n",
    "Looks like a gaussian function:"
   ]
  },
  {
   "cell_type": "code",
   "execution_count": 28,
   "metadata": {},
   "outputs": [
    {
     "name": "stdout",
     "output_type": "stream",
     "text": [
      "[[ 2.61068959e+05 -2.88994955e+01  9.99296546e+01]\n",
      " [-2.88994955e+01  1.37882681e-01 -9.03555902e-02]\n",
      " [ 9.99296546e+01 -9.03555902e-02  1.46411224e-01]]\n"
     ]
    },
    {
     "data": {
      "image/png": "[encoded data removed]",
      "text/plain": [
       "<Figure size 1080x504 with 1 Axes>"
      ]
     },
     "metadata": {
      "needs_background": "light"
     },
     "output_type": "display_data"
    }
   ],
   "source": [
    "df = confirmed_derivate_moving_average.fillna(0)\n",
    "x = list(map(datetime.date.fromtimestamp, df.index.values))\n",
    "y = df.values\n",
    "\n",
    "xs = np.where(y > 5)[0][0]\n",
    "ydata = y[xs:]\n",
    "xdata = np.arange(ydata.shape[0])\n",
    "\n",
    "res, cov = gaussRegression(xdata, ydata)\n",
    "print(cov)\n",
    "forward_date = [(x[xs] + datetime.timedelta(days=i)) for i in range(len(res))]\n",
    "\n",
    "fig, ax = plt.subplots()\n",
    "fig.autofmt_xdate()\n",
    "ax.plot(x, y)\n",
    "ax.plot(forward_date, res)\n",
    "plt.show()\n",
    "# plt.savefig('gaussian.png')"
   ]
  },
  {
   "cell_type": "markdown",
   "metadata": {},
   "source": [
    "We can evaluate the theorical end of lockdown when 0 new cases are reported"
   ]
  },
  {
   "cell_type": "code",
   "execution_count": 29,
   "metadata": {},
   "outputs": [
    {
     "name": "stdout",
     "output_type": "stream",
     "text": [
      "2020-06-14\n"
     ]
    }
   ],
   "source": [
    "zero_new_case = np.where(res[:res.shape[0] // 2] < 1)[0][0]\n",
    "lockdown_end = forward_date[zero_new_case]\n",
    "print(lockdown_end)"
   ]
  },
  {
   "cell_type": "code",
   "execution_count": 30,
   "metadata": {},
   "outputs": [
    {
     "name": "stdout",
     "output_type": "stream",
     "text": [
      "16\n",
      "0.6729584512010685\n"
     ]
    },
    {
     "data": {
      "text/plain": [
       "[<matplotlib.lines.Line2D at 0x7fddd98b7460>,\n",
       " <matplotlib.lines.Line2D at 0x7fddd98b7640>]"
      ]
     },
     "execution_count": 30,
     "metadata": {},
     "output_type": "execute_result"
    },
    {
     "data": {
      "image/png": "[encoded data removed]",
      "text/plain": [
       "<Figure size 1080x504 with 2 Axes>"
      ]
     },
     "metadata": {
      "needs_background": "light"
     },
     "output_type": "display_data"
    }
   ],
   "source": [
    "from sklearn.linear_model import LinearRegression\n",
    "\n",
    "print(y.shape[0] - y.argmax())\n",
    "\n",
    "X = np.array(range(y.shape[0] - y.argmax())).reshape(-1, 1)\n",
    "Y = y[y.argmax():len(x)]\n",
    "\n",
    "linearRegression = LinearRegression()\n",
    "linearRegression.fit(X, Y)\n",
    "\n",
    "print(linearRegression.score(X, Y))\n",
    "\n",
    "forward = linearRegression.predict(np.arange(7 * 48 - y.argmax()).reshape(-1, 1))\n",
    "end_forward = np.where(forward < 0)[0][0]\n",
    "\n",
    "fig, axs = plt.subplots(ncols=2, nrows=1)\n",
    "fig.autofmt_xdate()\n",
    "axs[0].plot([(x[y.argmax()] + datetime.timedelta(days=i)) for i in range(len(Y))], Y, [(x[y.argmax()] + datetime.timedelta(days=i)) for i in range(end_forward)], forward[:end_forward])\n",
    "axs[1].loglog(X, Y, forward)"
   ]
  },
  {
   "cell_type": "code",
   "execution_count": 31,
   "metadata": {},
   "outputs": [
    {
     "name": "stdout",
     "output_type": "stream",
     "text": [
      "2020-12-01\n"
     ]
    }
   ],
   "source": [
    "zero_new_case = np.where(forward < 0)[0][0]\n",
    "lockdown_end = forward_date[y.argmax() + zero_new_case]\n",
    "print(lockdown_end)"
   ]
  },
  {
   "cell_type": "markdown",
   "metadata": {},
   "source": [
    "### Cumulative regression\n",
    "\n",
    "This looks like a sigmoid curve:"
   ]
  },
  {
   "cell_type": "code",
   "execution_count": 32,
   "metadata": {},
   "outputs": [
    {
     "data": {
      "image/png": "[encoded data removed]",
      "text/plain": [
       "<Figure size 1080x504 with 1 Axes>"
      ]
     },
     "metadata": {
      "needs_background": "light"
     },
     "output_type": "display_data"
    }
   ],
   "source": [
    "df = confirmed_cumulative_raw.fillna(0)\n",
    "x = list(map(datetime.date.fromtimestamp, df.index.values))\n",
    "y = df.values\n",
    "\n",
    "xd = list(map(lambda x: x.days, np.array(x) - x[0]))\n",
    "\n",
    "xs = np.where(np.array(xd) > 0)[0][0]\n",
    "backward_lookup = 0\n",
    "# xs = 20\n",
    "\n",
    "xdata = xd[xs - backward_lookup:]\n",
    "ydata = y[xs - backward_lookup:]\n",
    "\n",
    "res, cov = logisticRegression(xdata, ydata)\n",
    "forward_date = [(x[xs] + datetime.timedelta(days=i)) for i in range(len(res))]\n",
    "\n",
    "fig, ax = plt.subplots()\n",
    "fig.autofmt_xdate()\n",
    "plt.plot(x, y)\n",
    "plt.plot(forward_date, res)\n",
    "plt.show()\n",
    "# plt.savefig('sigmoid.png')"
   ]
  },
  {
   "cell_type": "code",
   "execution_count": 33,
   "metadata": {},
   "outputs": [
    {
     "name": "stdout",
     "output_type": "stream",
     "text": [
      "2020-07-04\n"
     ]
    }
   ],
   "source": [
    "zero_new_case = np.where(np.diff(res[:res.shape[0] // 2]) < 1)[0][0]\n",
    "lockdown_end = forward_date[zero_new_case]\n",
    "print(lockdown_end)"
   ]
  },
  {
   "cell_type": "code",
   "execution_count": null,
   "metadata": {},
   "outputs": [],
   "source": []
  }
 ],
 "metadata": {
  "kernelspec": {
   "display_name": "Python 3.8.2 64-bit",
   "language": "python",
   "name": "python38264bite17fa18d6cd54cd49c0ea3de79527933"
  },
  "language_info": {
   "codemirror_mode": {
    "name": "ipython",
    "version": 3
   },
   "file_extension": ".py",
   "mimetype": "text/x-python",
   "name": "python",
   "nbconvert_exporter": "python",
   "pygments_lexer": "ipython3",
   "version": "3.8.2"
  }
 },
 "nbformat": 4,
 "nbformat_minor": 4
}
