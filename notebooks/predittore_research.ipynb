{
 "cells": [
  {
   "cell_type": "markdown",
   "metadata": {},
   "source": [
    "# Predittore - fast implementation\n",
    "\n",
    "Asvestis' solution for #EUvsVirus Hackathon \n",
    "\n",
    "## Introduction\n",
    "\n",
    "Research notebook for prediction models."
   ]
  },
  {
   "cell_type": "markdown",
   "metadata": {},
   "source": [
    "We need dataclasses, pandas"
   ]
  },
  {
   "cell_type": "code",
   "execution_count": 572,
   "metadata": {},
   "outputs": [],
   "source": [
    "from dataclasses import dataclass\n",
    "import pandas as pd\n",
    "import json\n",
    "\n",
    "@dataclass\n",
    "class Values:\n",
    "    def __init__(self, value: pd.DataFrame):\n",
    "        self.value = value\n",
    "        self.value_ma = self.value.rolling(window=7).mean()\n",
    "\n",
    "    def get(self):\n",
    "        return {\n",
    "            'Raw': self.value.fillna(0).to_dict(),\n",
    "            'Moving Average 7 days': self.value_ma.fillna(0).to_dict()\n",
    "        }\n",
    "\n",
    "@dataclass\n",
    "class Measurement:\n",
    "    def __init__(self, measurement: pd.DataFrame):\n",
    "        self.measurement = Values(measurement)\n",
    "        self.measurement_diff = Values(measurement.diff())\n",
    "\n",
    "    def get(self):\n",
    "        return {\n",
    "            'Cumulative': self.measurement.get(),\n",
    "            'Daily new': self.measurement_diff.get()\n",
    "        }\n",
    "\n",
    "@dataclass\n",
    "class COVID19:\n",
    "    def __init__(self, confirmed: pd.DataFrame, deaths: pd.DataFrame, recovered: pd.DataFrame):\n",
    "        self.confirmed = Measurement(confirmed)\n",
    "        self.deaths = Measurement(deaths)\n",
    "        self.recovered = Measurement(recovered)\n",
    "\n",
    "    def to_json(self):\n",
    "        return json.dmps({\n",
    "            'confirmed': self.confirmed.get(),\n",
    "            'deaths': self.deaths.get(),\n",
    "            'recovered': self.recovered.get()\n",
    "        })"
   ]
  },
  {
   "cell_type": "markdown",
   "metadata": {},
   "source": [
    "Load up the data from the COVID-19 submodule"
   ]
  },
  {
   "cell_type": "code",
   "execution_count": 573,
   "metadata": {},
   "outputs": [
    {
     "data": {
      "text/html": [
       "<div>\n",
       "<style scoped>\n",
       "    .dataframe tbody tr th:only-of-type {\n",
       "        vertical-align: middle;\n",
       "    }\n",
       "\n",
       "    .dataframe tbody tr th {\n",
       "        vertical-align: top;\n",
       "    }\n",
       "\n",
       "    .dataframe thead th {\n",
       "        text-align: right;\n",
       "    }\n",
       "</style>\n",
       "<table border=\"1\" class=\"dataframe\">\n",
       "  <thead>\n",
       "    <tr style=\"text-align: right;\">\n",
       "      <th></th>\n",
       "      <th>Province/State</th>\n",
       "      <th>Country/Region</th>\n",
       "      <th>Lat</th>\n",
       "      <th>Long</th>\n",
       "      <th>1/22/20</th>\n",
       "      <th>1/23/20</th>\n",
       "      <th>1/24/20</th>\n",
       "      <th>1/25/20</th>\n",
       "      <th>1/26/20</th>\n",
       "      <th>1/27/20</th>\n",
       "      <th>...</th>\n",
       "      <th>4/19/20</th>\n",
       "      <th>4/20/20</th>\n",
       "      <th>4/21/20</th>\n",
       "      <th>4/22/20</th>\n",
       "      <th>4/23/20</th>\n",
       "      <th>4/24/20</th>\n",
       "      <th>4/25/20</th>\n",
       "      <th>4/26/20</th>\n",
       "      <th>4/27/20</th>\n",
       "      <th>4/28/20</th>\n",
       "    </tr>\n",
       "  </thead>\n",
       "  <tbody>\n",
       "    <tr>\n",
       "      <th>0</th>\n",
       "      <td>NaN</td>\n",
       "      <td>Afghanistan</td>\n",
       "      <td>33.000000</td>\n",
       "      <td>65.000000</td>\n",
       "      <td>0</td>\n",
       "      <td>0</td>\n",
       "      <td>0</td>\n",
       "      <td>0</td>\n",
       "      <td>0</td>\n",
       "      <td>0</td>\n",
       "      <td>...</td>\n",
       "      <td>996</td>\n",
       "      <td>1026</td>\n",
       "      <td>1092</td>\n",
       "      <td>1176</td>\n",
       "      <td>1279</td>\n",
       "      <td>1351</td>\n",
       "      <td>1463</td>\n",
       "      <td>1531</td>\n",
       "      <td>1703</td>\n",
       "      <td>1828</td>\n",
       "    </tr>\n",
       "    <tr>\n",
       "      <th>1</th>\n",
       "      <td>NaN</td>\n",
       "      <td>Albania</td>\n",
       "      <td>41.153300</td>\n",
       "      <td>20.168300</td>\n",
       "      <td>0</td>\n",
       "      <td>0</td>\n",
       "      <td>0</td>\n",
       "      <td>0</td>\n",
       "      <td>0</td>\n",
       "      <td>0</td>\n",
       "      <td>...</td>\n",
       "      <td>562</td>\n",
       "      <td>584</td>\n",
       "      <td>609</td>\n",
       "      <td>634</td>\n",
       "      <td>663</td>\n",
       "      <td>678</td>\n",
       "      <td>712</td>\n",
       "      <td>726</td>\n",
       "      <td>736</td>\n",
       "      <td>750</td>\n",
       "    </tr>\n",
       "    <tr>\n",
       "      <th>2</th>\n",
       "      <td>NaN</td>\n",
       "      <td>Algeria</td>\n",
       "      <td>28.033900</td>\n",
       "      <td>1.659600</td>\n",
       "      <td>0</td>\n",
       "      <td>0</td>\n",
       "      <td>0</td>\n",
       "      <td>0</td>\n",
       "      <td>0</td>\n",
       "      <td>0</td>\n",
       "      <td>...</td>\n",
       "      <td>2629</td>\n",
       "      <td>2718</td>\n",
       "      <td>2811</td>\n",
       "      <td>2910</td>\n",
       "      <td>3007</td>\n",
       "      <td>3127</td>\n",
       "      <td>3256</td>\n",
       "      <td>3382</td>\n",
       "      <td>3517</td>\n",
       "      <td>3649</td>\n",
       "    </tr>\n",
       "    <tr>\n",
       "      <th>3</th>\n",
       "      <td>NaN</td>\n",
       "      <td>Andorra</td>\n",
       "      <td>42.506300</td>\n",
       "      <td>1.521800</td>\n",
       "      <td>0</td>\n",
       "      <td>0</td>\n",
       "      <td>0</td>\n",
       "      <td>0</td>\n",
       "      <td>0</td>\n",
       "      <td>0</td>\n",
       "      <td>...</td>\n",
       "      <td>713</td>\n",
       "      <td>717</td>\n",
       "      <td>717</td>\n",
       "      <td>723</td>\n",
       "      <td>723</td>\n",
       "      <td>731</td>\n",
       "      <td>738</td>\n",
       "      <td>738</td>\n",
       "      <td>743</td>\n",
       "      <td>743</td>\n",
       "    </tr>\n",
       "    <tr>\n",
       "      <th>4</th>\n",
       "      <td>NaN</td>\n",
       "      <td>Angola</td>\n",
       "      <td>-11.202700</td>\n",
       "      <td>17.873900</td>\n",
       "      <td>0</td>\n",
       "      <td>0</td>\n",
       "      <td>0</td>\n",
       "      <td>0</td>\n",
       "      <td>0</td>\n",
       "      <td>0</td>\n",
       "      <td>...</td>\n",
       "      <td>24</td>\n",
       "      <td>24</td>\n",
       "      <td>24</td>\n",
       "      <td>25</td>\n",
       "      <td>25</td>\n",
       "      <td>25</td>\n",
       "      <td>25</td>\n",
       "      <td>26</td>\n",
       "      <td>27</td>\n",
       "      <td>27</td>\n",
       "    </tr>\n",
       "    <tr>\n",
       "      <th>...</th>\n",
       "      <td>...</td>\n",
       "      <td>...</td>\n",
       "      <td>...</td>\n",
       "      <td>...</td>\n",
       "      <td>...</td>\n",
       "      <td>...</td>\n",
       "      <td>...</td>\n",
       "      <td>...</td>\n",
       "      <td>...</td>\n",
       "      <td>...</td>\n",
       "      <td>...</td>\n",
       "      <td>...</td>\n",
       "      <td>...</td>\n",
       "      <td>...</td>\n",
       "      <td>...</td>\n",
       "      <td>...</td>\n",
       "      <td>...</td>\n",
       "      <td>...</td>\n",
       "      <td>...</td>\n",
       "      <td>...</td>\n",
       "      <td>...</td>\n",
       "    </tr>\n",
       "    <tr>\n",
       "      <th>259</th>\n",
       "      <td>Saint Pierre and Miquelon</td>\n",
       "      <td>France</td>\n",
       "      <td>46.885200</td>\n",
       "      <td>-56.315900</td>\n",
       "      <td>0</td>\n",
       "      <td>0</td>\n",
       "      <td>0</td>\n",
       "      <td>0</td>\n",
       "      <td>0</td>\n",
       "      <td>0</td>\n",
       "      <td>...</td>\n",
       "      <td>1</td>\n",
       "      <td>1</td>\n",
       "      <td>1</td>\n",
       "      <td>1</td>\n",
       "      <td>1</td>\n",
       "      <td>1</td>\n",
       "      <td>1</td>\n",
       "      <td>1</td>\n",
       "      <td>1</td>\n",
       "      <td>1</td>\n",
       "    </tr>\n",
       "    <tr>\n",
       "      <th>260</th>\n",
       "      <td>NaN</td>\n",
       "      <td>South Sudan</td>\n",
       "      <td>6.877000</td>\n",
       "      <td>31.307000</td>\n",
       "      <td>0</td>\n",
       "      <td>0</td>\n",
       "      <td>0</td>\n",
       "      <td>0</td>\n",
       "      <td>0</td>\n",
       "      <td>0</td>\n",
       "      <td>...</td>\n",
       "      <td>4</td>\n",
       "      <td>4</td>\n",
       "      <td>4</td>\n",
       "      <td>4</td>\n",
       "      <td>5</td>\n",
       "      <td>5</td>\n",
       "      <td>5</td>\n",
       "      <td>6</td>\n",
       "      <td>6</td>\n",
       "      <td>34</td>\n",
       "    </tr>\n",
       "    <tr>\n",
       "      <th>261</th>\n",
       "      <td>NaN</td>\n",
       "      <td>Western Sahara</td>\n",
       "      <td>24.215500</td>\n",
       "      <td>-12.885800</td>\n",
       "      <td>0</td>\n",
       "      <td>0</td>\n",
       "      <td>0</td>\n",
       "      <td>0</td>\n",
       "      <td>0</td>\n",
       "      <td>0</td>\n",
       "      <td>...</td>\n",
       "      <td>6</td>\n",
       "      <td>6</td>\n",
       "      <td>6</td>\n",
       "      <td>6</td>\n",
       "      <td>6</td>\n",
       "      <td>6</td>\n",
       "      <td>6</td>\n",
       "      <td>6</td>\n",
       "      <td>6</td>\n",
       "      <td>6</td>\n",
       "    </tr>\n",
       "    <tr>\n",
       "      <th>262</th>\n",
       "      <td>NaN</td>\n",
       "      <td>Sao Tome and Principe</td>\n",
       "      <td>0.186360</td>\n",
       "      <td>6.613081</td>\n",
       "      <td>0</td>\n",
       "      <td>0</td>\n",
       "      <td>0</td>\n",
       "      <td>0</td>\n",
       "      <td>0</td>\n",
       "      <td>0</td>\n",
       "      <td>...</td>\n",
       "      <td>4</td>\n",
       "      <td>4</td>\n",
       "      <td>4</td>\n",
       "      <td>4</td>\n",
       "      <td>4</td>\n",
       "      <td>4</td>\n",
       "      <td>4</td>\n",
       "      <td>4</td>\n",
       "      <td>4</td>\n",
       "      <td>8</td>\n",
       "    </tr>\n",
       "    <tr>\n",
       "      <th>263</th>\n",
       "      <td>NaN</td>\n",
       "      <td>Yemen</td>\n",
       "      <td>15.552727</td>\n",
       "      <td>48.516388</td>\n",
       "      <td>0</td>\n",
       "      <td>0</td>\n",
       "      <td>0</td>\n",
       "      <td>0</td>\n",
       "      <td>0</td>\n",
       "      <td>0</td>\n",
       "      <td>...</td>\n",
       "      <td>1</td>\n",
       "      <td>1</td>\n",
       "      <td>1</td>\n",
       "      <td>1</td>\n",
       "      <td>1</td>\n",
       "      <td>1</td>\n",
       "      <td>1</td>\n",
       "      <td>1</td>\n",
       "      <td>1</td>\n",
       "      <td>1</td>\n",
       "    </tr>\n",
       "  </tbody>\n",
       "</table>\n",
       "<p>264 rows × 102 columns</p>\n",
       "</div>"
      ],
      "text/plain": [
       "                Province/State         Country/Region        Lat       Long  \\\n",
       "0                          NaN            Afghanistan  33.000000  65.000000   \n",
       "1                          NaN                Albania  41.153300  20.168300   \n",
       "2                          NaN                Algeria  28.033900   1.659600   \n",
       "3                          NaN                Andorra  42.506300   1.521800   \n",
       "4                          NaN                 Angola -11.202700  17.873900   \n",
       "..                         ...                    ...        ...        ...   \n",
       "259  Saint Pierre and Miquelon                 France  46.885200 -56.315900   \n",
       "260                        NaN            South Sudan   6.877000  31.307000   \n",
       "261                        NaN         Western Sahara  24.215500 -12.885800   \n",
       "262                        NaN  Sao Tome and Principe   0.186360   6.613081   \n",
       "263                        NaN                  Yemen  15.552727  48.516388   \n",
       "\n",
       "     1/22/20  1/23/20  1/24/20  1/25/20  1/26/20  1/27/20  ...  4/19/20  \\\n",
       "0          0        0        0        0        0        0  ...      996   \n",
       "1          0        0        0        0        0        0  ...      562   \n",
       "2          0        0        0        0        0        0  ...     2629   \n",
       "3          0        0        0        0        0        0  ...      713   \n",
       "4          0        0        0        0        0        0  ...       24   \n",
       "..       ...      ...      ...      ...      ...      ...  ...      ...   \n",
       "259        0        0        0        0        0        0  ...        1   \n",
       "260        0        0        0        0        0        0  ...        4   \n",
       "261        0        0        0        0        0        0  ...        6   \n",
       "262        0        0        0        0        0        0  ...        4   \n",
       "263        0        0        0        0        0        0  ...        1   \n",
       "\n",
       "     4/20/20  4/21/20  4/22/20  4/23/20  4/24/20  4/25/20  4/26/20  4/27/20  \\\n",
       "0       1026     1092     1176     1279     1351     1463     1531     1703   \n",
       "1        584      609      634      663      678      712      726      736   \n",
       "2       2718     2811     2910     3007     3127     3256     3382     3517   \n",
       "3        717      717      723      723      731      738      738      743   \n",
       "4         24       24       25       25       25       25       26       27   \n",
       "..       ...      ...      ...      ...      ...      ...      ...      ...   \n",
       "259        1        1        1        1        1        1        1        1   \n",
       "260        4        4        4        5        5        5        6        6   \n",
       "261        6        6        6        6        6        6        6        6   \n",
       "262        4        4        4        4        4        4        4        4   \n",
       "263        1        1        1        1        1        1        1        1   \n",
       "\n",
       "     4/28/20  \n",
       "0       1828  \n",
       "1        750  \n",
       "2       3649  \n",
       "3        743  \n",
       "4         27  \n",
       "..       ...  \n",
       "259        1  \n",
       "260       34  \n",
       "261        6  \n",
       "262        8  \n",
       "263        1  \n",
       "\n",
       "[264 rows x 102 columns]"
      ]
     },
     "execution_count": 573,
     "metadata": {},
     "output_type": "execute_result"
    }
   ],
   "source": [
    "import os\n",
    "\n",
    "# Get the base folder relatively to COVID-19\n",
    "base_folder = os.path.join('..', 'COVID-19', 'csse_covid_19_data', 'csse_covid_19_time_series')\n",
    "\n",
    "confirmed = pd.read_csv(os.path.join(base_folder, 'time_series_covid19_confirmed_global.csv'), sep=',')\n",
    "deaths = pd.read_csv(os.path.join(base_folder, 'time_series_covid19_deaths_global.csv'), sep=',')\n",
    "recovered = pd.read_csv(os.path.join(base_folder, 'time_series_covid19_recovered_global.csv'), sep=',')\n",
    "confirmed"
   ]
  },
  {
   "cell_type": "markdown",
   "metadata": {},
   "source": [
    "Getting the population data for each countries"
   ]
  },
  {
   "cell_type": "code",
   "execution_count": 574,
   "metadata": {},
   "outputs": [
    {
     "data": {
      "text/html": [
       "<div>\n",
       "<style scoped>\n",
       "    .dataframe tbody tr th:only-of-type {\n",
       "        vertical-align: middle;\n",
       "    }\n",
       "\n",
       "    .dataframe tbody tr th {\n",
       "        vertical-align: top;\n",
       "    }\n",
       "\n",
       "    .dataframe thead th {\n",
       "        text-align: right;\n",
       "    }\n",
       "</style>\n",
       "<table border=\"1\" class=\"dataframe\">\n",
       "  <thead>\n",
       "    <tr style=\"text-align: right;\">\n",
       "      <th></th>\n",
       "      <th>Country Name</th>\n",
       "      <th>Country Code</th>\n",
       "      <th>Year</th>\n",
       "      <th>Value</th>\n",
       "    </tr>\n",
       "  </thead>\n",
       "  <tbody>\n",
       "    <tr>\n",
       "      <th>58</th>\n",
       "      <td>Arab World</td>\n",
       "      <td>ARB</td>\n",
       "      <td>2018</td>\n",
       "      <td>419790588</td>\n",
       "    </tr>\n",
       "    <tr>\n",
       "      <th>117</th>\n",
       "      <td>Caribbean small states</td>\n",
       "      <td>CSS</td>\n",
       "      <td>2018</td>\n",
       "      <td>7358965</td>\n",
       "    </tr>\n",
       "    <tr>\n",
       "      <th>176</th>\n",
       "      <td>Central Europe and the Baltics</td>\n",
       "      <td>CEB</td>\n",
       "      <td>2018</td>\n",
       "      <td>102511922</td>\n",
       "    </tr>\n",
       "    <tr>\n",
       "      <th>235</th>\n",
       "      <td>Early-demographic dividend</td>\n",
       "      <td>EAR</td>\n",
       "      <td>2018</td>\n",
       "      <td>3249140605</td>\n",
       "    </tr>\n",
       "    <tr>\n",
       "      <th>294</th>\n",
       "      <td>East Asia &amp; Pacific</td>\n",
       "      <td>EAS</td>\n",
       "      <td>2018</td>\n",
       "      <td>2328220870</td>\n",
       "    </tr>\n",
       "    <tr>\n",
       "      <th>...</th>\n",
       "      <td>...</td>\n",
       "      <td>...</td>\n",
       "      <td>...</td>\n",
       "      <td>...</td>\n",
       "    </tr>\n",
       "    <tr>\n",
       "      <th>15202</th>\n",
       "      <td>Virgin Islands (U.S.)</td>\n",
       "      <td>VIR</td>\n",
       "      <td>2018</td>\n",
       "      <td>106977</td>\n",
       "    </tr>\n",
       "    <tr>\n",
       "      <th>15231</th>\n",
       "      <td>West Bank and Gaza</td>\n",
       "      <td>PSE</td>\n",
       "      <td>2018</td>\n",
       "      <td>4569087</td>\n",
       "    </tr>\n",
       "    <tr>\n",
       "      <th>15290</th>\n",
       "      <td>Yemen, Rep.</td>\n",
       "      <td>YEM</td>\n",
       "      <td>2018</td>\n",
       "      <td>28498687</td>\n",
       "    </tr>\n",
       "    <tr>\n",
       "      <th>15349</th>\n",
       "      <td>Zambia</td>\n",
       "      <td>ZMB</td>\n",
       "      <td>2018</td>\n",
       "      <td>17351822</td>\n",
       "    </tr>\n",
       "    <tr>\n",
       "      <th>15408</th>\n",
       "      <td>Zimbabwe</td>\n",
       "      <td>ZWE</td>\n",
       "      <td>2018</td>\n",
       "      <td>14439018</td>\n",
       "    </tr>\n",
       "  </tbody>\n",
       "</table>\n",
       "<p>262 rows × 4 columns</p>\n",
       "</div>"
      ],
      "text/plain": [
       "                         Country Name Country Code  Year       Value\n",
       "58                         Arab World          ARB  2018   419790588\n",
       "117            Caribbean small states          CSS  2018     7358965\n",
       "176    Central Europe and the Baltics          CEB  2018   102511922\n",
       "235        Early-demographic dividend          EAR  2018  3249140605\n",
       "294               East Asia & Pacific          EAS  2018  2328220870\n",
       "...                               ...          ...   ...         ...\n",
       "15202           Virgin Islands (U.S.)          VIR  2018      106977\n",
       "15231              West Bank and Gaza          PSE  2018     4569087\n",
       "15290                     Yemen, Rep.          YEM  2018    28498687\n",
       "15349                          Zambia          ZMB  2018    17351822\n",
       "15408                        Zimbabwe          ZWE  2018    14439018\n",
       "\n",
       "[262 rows x 4 columns]"
      ]
     },
     "execution_count": 574,
     "metadata": {},
     "output_type": "execute_result"
    }
   ],
   "source": [
    "pop_folder = os.path.join('..', 'populations')\n",
    "\n",
    "populations = pd.read_csv(os.path.join(pop_folder, 'population.csv'), sep=',')\n",
    "populations = populations[populations['Year'] == 2018]\n",
    "populations"
   ]
  },
  {
   "cell_type": "markdown",
   "metadata": {},
   "source": [
    "We wrote a little function to extract data "
   ]
  },
  {
   "cell_type": "code",
   "execution_count": 575,
   "metadata": {},
   "outputs": [],
   "source": [
    "import calendar\n",
    "import datetime\n",
    "\n",
    "def makeComputations(countries):\n",
    "    global base_folder\n",
    "\n",
    "    confirmed = pd.read_csv(os.path.join(base_folder, 'time_series_covid19_confirmed_global.csv'), sep=',')\n",
    "    deaths = pd.read_csv(os.path.join(base_folder, 'time_series_covid19_deaths_global.csv'), sep=',')\n",
    "    recovered = pd.read_csv(os.path.join(base_folder, 'time_series_covid19_recovered_global.csv'), sep=',')\n",
    "\n",
    "    get_total_per_country = lambda df: df.sum(axis=0) if not df.isnull().values.any() else df[df.isna().any(axis=1)]\n",
    "    # clean_date = lambda df: df.set_index(pd.Index([datetime.date(2000 + int(dd.split('/')[2]), int(dd.split('/')[0]), int(dd.split('/')[1])) for dd in list(df.index.values)]))\n",
    "    clean_date = lambda df: df.set_index(pd.Index([calendar.timegm(datetime.date(2000 + int(dd.split('/')[2]), int(dd.split('/')[0]), int(dd.split('/')[1])).timetuple()) for dd in list(df.index.values)]))\n",
    "\n",
    "    # countries = [k for k, _ in countries.items()]\n",
    "\n",
    "    objs = []\n",
    "    for obj in [confirmed, deaths, recovered]:\n",
    "        dfs = []\n",
    "        for c in countries:\n",
    "            total = get_total_per_country(obj[obj['Country/Region'] == c])\n",
    "            if isinstance(total, pd.core.frame.Series):\n",
    "                total = pd.DataFrame(total)\n",
    "                total = total.transpose()\n",
    "            total = total.drop(['Province/State', 'Country/Region', 'Lat', 'Long'], axis=1)\n",
    "            total = total.set_index(pd.Index(['Total ' + c]))\n",
    "            total = total.transpose()\n",
    "            total = clean_date(total)\n",
    "            dfs.append(total)\n",
    "        objs.append(pd.concat(dfs, axis=1, sort=False))\n",
    "\n",
    "    selected = COVID19(objs[0], objs[1], objs[2])\n",
    "\n",
    "    return selected\n",
    "\n",
    "all_countries = makeComputations(confirmed['Country/Region'].drop_duplicates())"
   ]
  },
  {
   "cell_type": "markdown",
   "metadata": {},
   "source": [
    "## Logistic regression\n",
    "\n",
    "We use the following relationship\n",
    "\n",
    "$$\n",
    "y(x) = \\frac{A}{1 - e^{-k \\cdot (x - x_0)}} + B\n",
    "$$\n",
    "\n",
    "- $[A, k, x_0, B] \\in \\mathbb{R}$\n",
    "- $y \\in \\{confirmed, deaths, recovered\\}$"
   ]
  },
  {
   "cell_type": "code",
   "execution_count": 576,
   "metadata": {},
   "outputs": [],
   "source": [
    "import numpy as np\n",
    "from scipy.optimize import curve_fit"
   ]
  },
  {
   "cell_type": "code",
   "execution_count": 577,
   "metadata": {},
   "outputs": [],
   "source": [
    "def logisticRegression(x, y, forward=7 * 48):\n",
    "    sigmoid = lambda x, A, B, k, x0: A / (1 + np.exp(-k*(x-x0)))+B\n",
    "\n",
    "    popt, pcov = curve_fit(sigmoid, x, y)\n",
    "\n",
    "    return sigmoid(range(len(x) + forward), *popt), pcov"
   ]
  },
  {
   "cell_type": "markdown",
   "metadata": {},
   "source": [
    "## Gaussian regression\n",
    "\n",
    "We use the following function:\n",
    "\n",
    "$$\n",
    "y(t) = A \\times e^{\\frac{-(t - t_0)^2}{2 \\cdot \\sigma^2}}\n",
    "$$\n",
    "\n",
    "- $[A, x_0, \\sigma] \\in \\mathbb{R}$\n",
    "- $y \\in \\{confirmed, deaths, recovered\\}$"
   ]
  },
  {
   "cell_type": "code",
   "execution_count": 578,
   "metadata": {},
   "outputs": [],
   "source": [
    "def gaussRegression(x ,y, forward=7 * 48):\n",
    "    gauss = lambda x, a, x0, sigma: a*np.exp(-(x-x0)**2/(2*sigma**2))\n",
    "\n",
    "    popt, pcov = curve_fit(gauss, x, y)\n",
    "\n",
    "    return gauss(range(len(x) + forward), *popt), pcov"
   ]
  },
  {
   "cell_type": "markdown",
   "metadata": {},
   "source": [
    "## Use case\n",
    "\n",
    "For accessing data we must use either the *all_countries* variable\n",
    "\n",
    "The data tree is the following:\n",
    "\n",
    "```\n",
    "all_countries\n",
    "|\n",
    "--- confirmed\n",
    "|   |\n",
    "|    --- measurement (raw CUMULATIVE data from John Hopkins)\n",
    "|        |\n",
    "|        --- value (the measurement raw value)\n",
    "|        --- value_ma (moving average measurement)\n",
    "|\n",
    "|    --- measurement_diff (derivate of raw cumulative data from John Hopkins)\n",
    "|        |\n",
    "|        --- value (the measurement_diff computed value)\n",
    "|        --- value_ma (moving average of measurement derivate computed value)\n",
    "--- deaths\n",
    "|\n",
    "|\n",
    "|\n",
    "--- recovered\n",
    "```\n",
    "\n",
    "Same logic applies to deaths and recovered"
   ]
  },
  {
   "cell_type": "code",
   "execution_count": 579,
   "metadata": {},
   "outputs": [
    {
     "name": "stdout",
     "output_type": "stream",
     "text": [
      "1579651200         0\n",
      "1579737600         0\n",
      "1579824000         0\n",
      "1579910400         0\n",
      "1579996800         0\n",
      "               ...  \n",
      "1587686400    154999\n",
      "1587772800    156513\n",
      "1587859200    157770\n",
      "1587945600    158758\n",
      "1588032000    159912\n",
      "Name: Total Germany, Length: 98, dtype: int64\n"
     ]
    }
   ],
   "source": [
    "countries = ['Germany']\n",
    "\n",
    "for country in countries:\n",
    "    confirmed_cumulative_raw = all_countries.confirmed.measurement.value[f'Total {country}']\n",
    "    confirmed_cumulative_moving_average = all_countries.confirmed.measurement.value_ma[f'Total {country}']\n",
    "    recovered_cumulative_raw = all_countries.recovered.measurement.value[f'Total {country}']\n",
    "    recovered_cumulative_moving_average = all_countries.recovered.measurement.value_ma[f'Total {country}']\n",
    "    \n",
    "    confirmed_derivate_raw = all_countries.confirmed.measurement_diff.value[f'Total {country}']\n",
    "    confirmed_derivate_moving_average = all_countries.confirmed.measurement_diff.value_ma[f'Total {country}']\n",
    "\n",
    "print(confirmed_cumulative_raw)"
   ]
  },
  {
   "cell_type": "code",
   "execution_count": 580,
   "metadata": {},
   "outputs": [
    {
     "name": "stdout",
     "output_type": "stream",
     "text": [
      "1579651200              NaN\n",
      "1579737600              NaN\n",
      "1579824000              NaN\n",
      "1579910400              NaN\n",
      "1579996800              NaN\n",
      "                  ...      \n",
      "1587686400    148951.142857\n",
      "1587772800    150832.714286\n",
      "1587859200    152630.714286\n",
      "1587945600    154301.142857\n",
      "1588032000    155961.285714\n",
      "Name: Total Germany, Length: 98, dtype: float64\n"
     ]
    }
   ],
   "source": [
    "print(confirmed_cumulative_moving_average)"
   ]
  },
  {
   "cell_type": "code",
   "execution_count": 581,
   "metadata": {},
   "outputs": [
    {
     "data": {
      "text/plain": [
       "Text(0.5, 1.0, 'Confirmed cases - France')"
      ]
     },
     "execution_count": 581,
     "metadata": {},
     "output_type": "execute_result"
    },
    {
     "data": {
      "image/png": "[encoded data removed]",
      "text/plain": [
       "<Figure size 1080x504 with 1 Axes>"
      ]
     },
     "metadata": {
      "needs_background": "light"
     },
     "output_type": "display_data"
    }
   ],
   "source": [
    "import matplotlib.pyplot as plt\n",
    "plt.rcParams[\"figure.figsize\"] = (15, 7)\n",
    "\n",
    "plt.bar(list(map(datetime.date.fromtimestamp, confirmed_derivate_raw.index.values)), confirmed_cumulative_raw.values)\n",
    "plt.bar(list(map(datetime.date.fromtimestamp, confirmed_derivate_raw.index.values)), confirmed_cumulative_moving_average.values)\n",
    "plt.xlabel('Date')\n",
    "plt.ylabel('Individuals')\n",
    "plt.legend(['Raw values', 'Moving average'])\n",
    "plt.title('Confirmed cases - France')"
   ]
  },
  {
   "cell_type": "code",
   "execution_count": 582,
   "metadata": {},
   "outputs": [
    {
     "data": {
      "image/png": "[encoded data removed]",
      "text/plain": [
       "<Figure size 1080x504 with 1 Axes>"
      ]
     },
     "metadata": {
      "needs_background": "light"
     },
     "output_type": "display_data"
    }
   ],
   "source": [
    "plt.scatter(list(map(datetime.date.fromtimestamp, confirmed_derivate_raw.index.values)), confirmed_derivate_raw.values, c='r')\n",
    "plt.plot(list(map(datetime.date.fromtimestamp, confirmed_derivate_raw.index.values)), confirmed_derivate_moving_average.values)\n",
    "plt.show()"
   ]
  },
  {
   "cell_type": "markdown",
   "metadata": {},
   "source": [
    "### Derivate regression\n",
    "\n",
    "Looks like a gaussian function:"
   ]
  },
  {
   "cell_type": "code",
   "execution_count": 583,
   "metadata": {},
   "outputs": [
    {
     "name": "stdout",
     "output_type": "stream",
     "text": [
      "[[ 1.30517837e+04 -5.52694777e-01 -1.92084032e+01]\n",
      " [-5.52694777e-01  7.71558605e-02  2.93300867e-03]\n",
      " [-1.92084032e+01  2.93300867e-03  8.21525032e-02]]\n"
     ]
    },
    {
     "data": {
      "image/png": "[encoded data removed]",
      "text/plain": [
       "<Figure size 1080x504 with 1 Axes>"
      ]
     },
     "metadata": {
      "needs_background": "light"
     },
     "output_type": "display_data"
    }
   ],
   "source": [
    "df = confirmed_derivate_moving_average.fillna(0)\n",
    "x = list(map(datetime.date.fromtimestamp, df.index.values))\n",
    "y = df.values\n",
    "\n",
    "xs = np.where(y > 5)[0][0]\n",
    "ydata = y[xs:]\n",
    "xdata = np.arange(ydata.shape[0])\n",
    "\n",
    "res, cov = gaussRegression(xdata, ydata)\n",
    "print(cov)\n",
    "forward_date = [(x[xs] + datetime.timedelta(days=i)) for i in range(len(res))]\n",
    "\n",
    "fig, ax = plt.subplots()\n",
    "fig.autofmt_xdate()\n",
    "ax.plot(x, y)\n",
    "ax.plot(forward_date, res)\n",
    "ax.legend(['Raw', 'Moving average'])\n",
    "# plt.show()\n",
    "plt.savefig('gaussian.png')"
   ]
  },
  {
   "cell_type": "markdown",
   "metadata": {},
   "source": [
    "We can evaluate the theorical end of lockdown when 0 new cases are reported"
   ]
  },
  {
   "cell_type": "code",
   "execution_count": 584,
   "metadata": {},
   "outputs": [
    {
     "name": "stdout",
     "output_type": "stream",
     "text": [
      "2020-05-21\n"
     ]
    }
   ],
   "source": [
    "zero_new_case = np.where(res[:res.shape[0] // 2] < 2)[0][0]\n",
    "lockdown_end = forward_date[zero_new_case]\n",
    "print(lockdown_end)"
   ]
  },
  {
   "cell_type": "code",
   "execution_count": 585,
   "metadata": {},
   "outputs": [
    {
     "name": "stdout",
     "output_type": "stream",
     "text": [
      "27\n",
      "0.9690089682109093\n"
     ]
    },
    {
     "data": {
      "text/plain": [
       "[<matplotlib.lines.Line2D at 0x7f8f7d4a1610>,\n",
       " <matplotlib.lines.Line2D at 0x7f8f7d4a1640>]"
      ]
     },
     "execution_count": 585,
     "metadata": {},
     "output_type": "execute_result"
    },
    {
     "data": {
      "image/png": "[encoded data removed]",
      "text/plain": [
       "<Figure size 1080x504 with 2 Axes>"
      ]
     },
     "metadata": {
      "needs_background": "light"
     },
     "output_type": "display_data"
    }
   ],
   "source": [
    "from sklearn.linear_model import LinearRegression\n",
    "\n",
    "print(y.shape[0] - y.argmax())\n",
    "\n",
    "X = np.array(range(y.shape[0] - y.argmax())).reshape(-1, 1)\n",
    "Y = y[y.argmax():len(x)]\n",
    "\n",
    "linearRegression = LinearRegression()\n",
    "linearRegression.fit(X, Y)\n",
    "\n",
    "print(linearRegression.score(X, Y))\n",
    "\n",
    "forward = linearRegression.predict(np.arange(7 * 48 - y.argmax()).reshape(-1, 1))\n",
    "end_forward = np.where(forward < 0)[0][0]\n",
    "\n",
    "fig, axs = plt.subplots(ncols=2, nrows=1)\n",
    "fig.autofmt_xdate()\n",
    "axs[0].plot([(x[y.argmax()] + datetime.timedelta(days=i)) for i in range(len(Y))], Y, [(x[y.argmax()] + datetime.timedelta(days=i)) for i in range(end_forward)], forward[:end_forward])\n",
    "axs[1].loglog(X, Y, forward)"
   ]
  },
  {
   "cell_type": "code",
   "execution_count": 586,
   "metadata": {},
   "outputs": [
    {
     "name": "stdout",
     "output_type": "stream",
     "text": [
      "2020-06-12\n"
     ]
    }
   ],
   "source": [
    "zero_new_case = np.where(forward < 0)[0][0]\n",
    "lockdown_end = forward_date[y.argmax() + zero_new_case]\n",
    "print(lockdown_end)"
   ]
  },
  {
   "cell_type": "markdown",
   "metadata": {},
   "source": [
    "### Cumulative regression\n",
    "\n",
    "This looks like a sigmoid curve:"
   ]
  },
  {
   "cell_type": "code",
   "execution_count": 587,
   "metadata": {},
   "outputs": [
    {
     "name": "stderr",
     "output_type": "stream",
     "text": [
      "/home/redeye/miniconda3/envs/bio/lib/python3.8/site-packages/scipy/optimize/minpack.py:807: OptimizeWarning: Covariance of the parameters could not be estimated\n",
      "  warnings.warn('Covariance of the parameters could not be estimated',\n",
      "<ipython-input-577-cc21d7bea473>:2: RuntimeWarning: overflow encountered in exp\n",
      "  sigmoid = lambda x, A, B, k, x0: A / (1 + np.exp(-k*(x-x0)))+B\n"
     ]
    },
    {
     "data": {
      "image/png": "[encoded data removed]",
      "text/plain": [
       "<Figure size 1080x504 with 1 Axes>"
      ]
     },
     "metadata": {
      "needs_background": "light"
     },
     "output_type": "display_data"
    }
   ],
   "source": [
    "df = confirmed_cumulative_raw.fillna(0)\n",
    "x = list(map(datetime.date.fromtimestamp, df.index.values))\n",
    "y = df.values\n",
    "\n",
    "xd = list(map(lambda x: x.days, np.array(x) - x[0]))\n",
    "\n",
    "xs = np.where(np.array(xd) > 6)[0][0]\n",
    "backward_lookup = 0\n",
    "# xs = 20\n",
    "\n",
    "xdata = xd[xs - backward_lookup:]\n",
    "ydata = y[xs - backward_lookup:]\n",
    "\n",
    "res, cov = logisticRegression(xdata, ydata)\n",
    "forward_date = [(x[xs] + datetime.timedelta(days=i)) for i in range(len(res))]\n",
    "\n",
    "fig, ax = plt.subplots()\n",
    "fig.autofmt_xdate()\n",
    "plt.plot(x, y)\n",
    "plt.plot(forward_date, res)\n",
    "plt.show()\n",
    "# plt.savefig('sigmoid.png')"
   ]
  },
  {
   "cell_type": "code",
   "execution_count": 588,
   "metadata": {},
   "outputs": [
    {
     "name": "stdout",
     "output_type": "stream",
     "text": [
      "2020-01-29\n"
     ]
    }
   ],
   "source": [
    "zero_new_case = np.where(np.diff(res[:res.shape[0] // 2]) < 1)[0][0]\n",
    "lockdown_end = forward_date[zero_new_case]\n",
    "print(lockdown_end)"
   ]
  },
  {
   "cell_type": "markdown",
   "metadata": {},
   "source": [
    "## Using a differential model to describe virus transmission"
   ]
  },
  {
   "cell_type": "markdown",
   "metadata": {},
   "source": [
    "### SIR model\n",
    "\n",
    "We use this three relationships to predict the pandemic expansion within a population:\n",
    "\n",
    "\\begin{align}\n",
    "\\frac{dS}{dt} &=-\\frac{\\beta SI}{N} \\\\\n",
    "\\frac{dI}{dt} &= \\frac{\\beta SI}{N}-\\gamma I \\\\\n",
    "\\frac{dR}{dt} &= \\gamma I\n",
    "\\end{align}\n",
    "\n",
    "Our confirmed case are describe by the second equation, we assume $\\beta = 0.2$ (which is the infection rate of the disease).\n",
    "We compute $\\gamma$ as the mean recovery/death rate.\n"
   ]
  },
  {
   "cell_type": "code",
   "execution_count": 589,
   "metadata": {},
   "outputs": [
    {
     "name": "stdout",
     "output_type": "stream",
     "text": [
      "Beta: 0.22 | Gamma: 0.06971138172342277\n"
     ]
    }
   ],
   "source": [
    "@dataclass\n",
    "class SARSCOV2:\n",
    "    recovery_rate: float\n",
    "    infection_rate: float\n",
    "        \n",
    "virus = SARSCOV2(\n",
    "    recovery_rate  = all_countries.deaths.measurement.value.iloc[-1].sum() / all_countries.confirmed.measurement.value.iloc[-1].sum(),\n",
    "    infection_rate = 0.22\n",
    ")\n",
    "\n",
    "print(f'Beta: {virus.infection_rate} | Gamma: {virus.recovery_rate}')"
   ]
  },
  {
   "cell_type": "markdown",
   "metadata": {},
   "source": [
    "Now we match this equations with actual data"
   ]
  },
  {
   "cell_type": "code",
   "execution_count": 590,
   "metadata": {},
   "outputs": [],
   "source": [
    "from scipy.integrate import odeint\n",
    "\n",
    "def SIR(y, t, virus_param):\n",
    "    s, i, r = y\n",
    "    beta, gamma = virus_param\n",
    "    ds = - beta * s * i / (s + i + r)\n",
    "    di = beta * s * i / (s + i + r) - gamma * i\n",
    "    dr = gamma * i\n",
    "    return [ds, di, dr]\n",
    "\n",
    "def solve(t_range, init_cond, virus_param):\n",
    "    t  = np.arange(*t_range, 1)\n",
    "    return odeint(SIR, init_cond, t, args=(virus_param,)), t"
   ]
  },
  {
   "cell_type": "markdown",
   "metadata": {},
   "source": [
    "We can test this model with some input parameters:\n",
    "- $S_0$ = 997\n",
    "- $I_0$ = 3\n",
    "- $R_0$ = 0\n",
    "- $\\beta$ = 0.2\n",
    "- $\\gamma$ = COVID-19's recovery rate"
   ]
  },
  {
   "cell_type": "code",
   "execution_count": 591,
   "metadata": {},
   "outputs": [
    {
     "data": {
      "text/plain": [
       "Text(0.5, 1.0, 'SIR model with $S_0$=997, $I_0$=3, $R_0$=0')"
      ]
     },
     "execution_count": 591,
     "metadata": {},
     "output_type": "execute_result"
    },
    {
     "data": {
      "image/png": "[encoded data removed]",
      "text/plain": [
       "<Figure size 1080x504 with 1 Axes>"
      ]
     },
     "metadata": {
      "needs_background": "light"
     },
     "output_type": "display_data"
    }
   ],
   "source": [
    "# Simple trial with N = 1000 -> (997 Suceptible, 3 infected, 0 recovered)\n",
    "pandemic, t = solve((0, 7 * 48), [997, 3, 0], (virus.infection_rate, virus.recovery_rate))\n",
    "\n",
    "fig, ax = plt.subplots()\n",
    "ax.plot(t, pandemic[:, 0], t, pandemic[:, 1], t, pandemic[:, 2])\n",
    "ax.legend(['Suceptible', 'Infected', 'Recovered'])\n",
    "ax.set_xlabel('Time (days)')\n",
    "ax.set_ylabel('Person (case)')\n",
    "ax.set_title('SIR model with $S_0$=997, $I_0$=3, $R_0$=0')"
   ]
  },
  {
   "cell_type": "markdown",
   "metadata": {},
   "source": [
    "We will now use least square to fit this SIR model on population"
   ]
  },
  {
   "cell_type": "code",
   "execution_count": 602,
   "metadata": {},
   "outputs": [
    {
     "name": "stdout",
     "output_type": "stream",
     "text": [
      "      fun: 1514032.8526321629\n",
      " hess_inv: <4x4 LbfgsInvHessProduct with dtype=float64>\n",
      "      jac: array([-6.75208867e-01, -3.87560809e+04,  2.91038305e+00, -4.11242479e+04])\n",
      "  message: b'CONVERGENCE: REL_REDUCTION_OF_F_<=_FACTR*EPSMCH'\n",
      "     nfev: 445\n",
      "      nit: 52\n",
      "   status: 0\n",
      "  success: True\n",
      "        x: array([1.26556025e+04, 2.11176983e-02, 0.00000000e+00, 3.13823997e-01])\n"
     ]
    },
    {
     "data": {
      "image/png": "[encoded data removed]",
      "text/plain": [
       "<Figure size 1080x504 with 1 Axes>"
      ]
     },
     "metadata": {
      "needs_background": "light"
     },
     "output_type": "display_data"
    }
   ],
   "source": [
    "from scipy.optimize import minimize\n",
    "\n",
    "df   = confirmed_derivate_moving_average.fillna(0)\n",
    "x_df = list(map(datetime.date.fromtimestamp, df.index.values))\n",
    "y_df = df.values\n",
    "\n",
    "def optimize_sir(params, t_range, virus_params):\n",
    "    global x_df, y_df\n",
    "    y, beta = params[:3], params[3:]\n",
    "    pandemic, _ = solve(t_range, y, (beta, virus_params))\n",
    "    lq = lambda data, model: ((data - model[:, 1]) ** 2).sum()\n",
    "    return lq(\n",
    "        y_df[y_df.shape[0] - pandemic.shape[0]:],\n",
    "        pandemic\n",
    "    )\n",
    "\n",
    "# Selection of first index\n",
    "xs       = np.where(y_df > 1)[0][0]\n",
    "i0       = y_df[first_index]\n",
    "max_time = y_df[xs:].shape[0]\n",
    "\n",
    "params = (\n",
    "          (\n",
    "              10000,               # S0\n",
    "              i0,                  # I0\n",
    "              0,                   # R0\n",
    "              virus.infection_rate # Beta\n",
    "          )\n",
    ")\n",
    "bounds = (\n",
    "    (0, 50000), # S\n",
    "    (0, 15),    # I\n",
    "    (0,0),      # R\n",
    "    (0, 0.5)    # Beta\n",
    ")\n",
    "\n",
    "result = minimize(\n",
    "    optimize_sir,\n",
    "    params,\n",
    "    bounds=bounds,\n",
    "    args=((0, max_time), (virus.recovery_rate)),\n",
    ")\n",
    "print(result)\n",
    "\n",
    "# 48 weeks lookup\n",
    "t            = np.arange(0, 7 * 48)\n",
    "pandemic, t  = solve((t[0], t[-1]), result.x[:3], (result.x[3:], virus.recovery_rate))\n",
    "forward_date = [(x[xs] + datetime.timedelta(days=i)) for i in range(pandemic.shape[0])]\n",
    "\n",
    "\n",
    "fig, ax = plt.subplots()\n",
    "ax.plot(forward_date, pandemic[:, 1], 'r')\n",
    "ax.bar(forward_date[:len(x_df[xs:])], y_df[xs:])\n",
    "ax.set_ylabel('Number of case')\n",
    "ax.set_xlabel('Time (days)')\n",
    "ax.set_title(f'Infection {country}')\n",
    "fig.savefig('preditore.png')"
   ]
  },
  {
   "cell_type": "code",
   "execution_count": 618,
   "metadata": {},
   "outputs": [
    {
     "name": "stdout",
     "output_type": "stream",
     "text": [
      "2020-08-08\n"
     ]
    }
   ],
   "source": [
    "zero_new_case = np.where(pandemic[:, 1] < 1)[0]\n",
    "zero_new_case = zero_new_case[np.where(zero_new_case > 100)[0][0]]\n",
    "lockdown_end = forward_date[zero_new_case - xs]\n",
    "print(lockdown_end)"
   ]
  },
  {
   "cell_type": "markdown",
   "metadata": {},
   "source": [
    "### MLSim\n",
    "\n",
    "The virus transmission model split individuals in categories:\n",
    "\n",
    "- **Susceptible** of contracting the disease\n",
    "- **Latent** which are already sick but do not express any symptoms\n",
    "- **Quarantined** are placed to isolation before beeing tested\n",
    "- **Confirmed** by medical test \n",
    "\n",
    "After tested positive to the virus, the patient could either recover from the disease or \n",
    "\n",
    "| Human   |  Virus  |\n",
    "|---------|---------|\n",
    "| Suceptib\n",
    "\n",
    "\n",
    "Hence, we are able to describe each susceptibles, latents, quarantined and confirmed patient in time with this four relationships:\n",
    "\n",
    "\\begin{align}\n",
    "\\frac{dS}{dt} &= S(t) - \\frac{\\beta k_t S(t) L(t)}{N} \\\\\n",
    "\\frac{dL}{dt} &= L(t) - \\frac{\\beta k_t S(t) L(t)}{N} +  \\frac{\\beta k_t' S(t) L(t)}{N} + L_{in} (t) - L_{out} (t) - \\sigma L(t) - L_{rm}(t) \\\\\n",
    "\\frac{dQ}{dt} &= Q(t) + \\sigma I(t) - \\gamma Q(t) - Q_{rm}(t) \\\\\n",
    "\\frac{dC}{dt} &= C(t) + \\gamma Q(t) + Q_{rm} (t) - (\\theta + \\delta) \\cdot C(t) - C_{rm} (t)\n",
    "\\end{align}\n",
    "\n",
    "With:\n",
    "- S: number of susceptible individuals.\n",
    "- L: number of latent patients\n",
    "- Q: number of quarantined patient\n",
    "- C: number of confirmed patient\n",
    "- $L_{in}$: number of inflowing patients. \n",
    "- $L_{out}$: number of outflowing patients.\n",
    "- $Q_{rm}$: the last number in the $Q$ list\n",
    "- $C_{rm}$: the last number in the $C$ list.\n",
    "- $\\beta$: Infection rate\n",
    "- $k_t$: average contacts in the region\n",
    "- $k_t'$: average contacts across the regions\n",
    "- $\\sigma$: quarantine rate per person per day\n",
    "- $\\gamma$: diagnostic rate per person per day\n",
    "- $\\theta$: recovery rate\n",
    "- $\\delta$: mortality rate"
   ]
  },
  {
   "cell_type": "code",
   "execution_count": null,
   "metadata": {},
   "outputs": [],
   "source": []
  },
  {
   "cell_type": "code",
   "execution_count": null,
   "metadata": {},
   "outputs": [],
   "source": []
  },
  {
   "cell_type": "code",
   "execution_count": null,
   "metadata": {},
   "outputs": [],
   "source": []
  },
  {
   "cell_type": "code",
   "execution_count": null,
   "metadata": {},
   "outputs": [],
   "source": []
  }
 ],
 "metadata": {
  "kernelspec": {
   "display_name": "Python 3.8.2 64-bit",
   "language": "python",
   "name": "python38264bite17fa18d6cd54cd49c0ea3de79527933"
  },
  "language_info": {
   "codemirror_mode": {
    "name": "ipython",
    "version": 3
   },
   "file_extension": ".py",
   "mimetype": "text/x-python",
   "name": "python",
   "nbconvert_exporter": "python",
   "pygments_lexer": "ipython3",
   "version": "3.8.2"
  }
 },
 "nbformat": 4,
 "nbformat_minor": 4
}
